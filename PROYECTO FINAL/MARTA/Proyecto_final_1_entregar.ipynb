{
 "cells": [
  {
   "cell_type": "markdown",
   "metadata": {
    "id": "yav5uSJdzOeD"
   },
   "source": [
    "# Proyecto final\n",
    "Crea un programa que gestione la información de una biblioteca.\n",
    "Para ello, tendrás que implementar una clase \"Libro\" que tenga los\n",
    "siguientes atributos: título, autor, año de publicación, número de\n",
    "páginas y estado (disponible o prestado). Además, esta clase deberá\n",
    "contar con métodos para prestar y devolver el libro, así como para\n",
    "imprimir su información.\n",
    "\n",
    "El programa deberá permitir al usuario agregar nuevos libros a la\n",
    "biblioteca, buscar libros por título o autor, y listar todos los libros\n",
    "disponibles. También deberá contar con la funcionalidad de guardar\n",
    "la información de la biblioteca en un archivo de texto y cargarla desde\n",
    "dicho archivo.\n",
    "\n",
    "Además, deberás implementar las siguientes funciones utilizando\n",
    "programación funcional:\n",
    "- Una función que calcule la cantidad total de páginas en la\n",
    "biblioteca.\n",
    "- Una función que calcule el promedio de páginas por libro.\n",
    "- Una función que calcule la cantidad de libros publicados en un\n",
    "año determinado.\n",
    "\n",
    "Por último, deberás incluir la gestión de excepciones para evitar\n",
    "errores en la entrada de datos por parte del usuario, así como para\n",
    "manejar posibles errores al leer o escribir el archivo de la biblioteca."
   ]
  },
  {
   "cell_type": "markdown",
   "metadata": {},
   "source": [
    "## Errores personalizados"
   ]
  },
  {
   "cell_type": "code",
   "execution_count": 15,
   "metadata": {
    "id": "VYN_8wIGOZ5m"
   },
   "outputs": [],
   "source": [
    "class EstadoErroneo(Exception):\n",
    "    def __init__(self, message='Al iniciar el libro. el Estado solo puede ser disponible o prestado'):\n",
    "        self.message = message"
   ]
  },
  {
   "cell_type": "markdown",
   "metadata": {},
   "source": [
    "## Classe libro"
   ]
  },
  {
   "cell_type": "code",
   "execution_count": 16,
   "metadata": {
    "id": "SMgkgwNbOZ5n"
   },
   "outputs": [],
   "source": [
    "class Libro():\n",
    "    _estados = ['disponible','prestado']\n",
    " \n",
    "    def __init__(self, titulo='Lorem ', autor='ipsum dolor sit', publicado='2000',paginas='3',estado=True):\n",
    "        self.titulo = titulo.lower()\n",
    "\n",
    "        self.autor = autor.lower()\n",
    "        if type(publicado)==str:\n",
    "            publicado = int(publicado)\n",
    "        self.publicado = publicado\n",
    "\n",
    "        if type(paginas)==str:\n",
    "            paginas = int(paginas)\n",
    "        self.paginas = paginas\n",
    "\n",
    "        if type(estado)==str:\n",
    "            try:\n",
    "                if estado[0].lower()==self._estados[0][0] :\n",
    "                    estado = True\n",
    "                elif estado[0].lower()==self._estados[1][0]:\n",
    "                    estado = False\n",
    "                else:\n",
    "                    raise EstadoErroneo()\n",
    "            except EstadoErroneo as err:\n",
    "                  print(EstadoErroneo)\n",
    "        self.estado = estado # True: disponible # False: Prestado \n",
    "\n",
    "    def prestar(self):\n",
    "        self.estado = False\n",
    "\n",
    "    def devolver(self):\n",
    "        self.estado = True\n",
    "\n",
    "    def info(self):\n",
    "        estado = self._estados[0] if self.estado else self._estados[1]\n",
    "        print(f\"{self.titulo}: autor {self.autor}. Publicado el año {self.publicado}, y con {self.paginas} paginas. Actualmente está {estado}\")\n",
    "  \n",
    "    def info_str(self):\n",
    "        estado =self._estados[0] if self.estado else self._estados[1]\n",
    "        return(f\"{self.titulo},{self.autor},{self.publicado},{self.paginas},{estado}\")\n",
    "\n",
    "    def atributo(self,atributo):\n",
    "        if atributo.lower() == 'titulo':\n",
    "            return self.titulo\n",
    "        elif atributo.lower() == 'autor':\n",
    "            return self.autor\n",
    "        elif atributo.lower() == 'paginas':\n",
    "            return self.paginas\n",
    "        elif atributo.lower() == 'publicado':\n",
    "            return self.publicado\n",
    "        elif atributo.lower() == 'estado bool':\n",
    "            return self.estado\n",
    "        elif atributo.lower() == 'estado str':\n",
    "            estado =self._estados[0] if self.estado else self._estados[1]\n",
    "            return estado"
   ]
  },
  {
   "cell_type": "markdown",
   "metadata": {},
   "source": [
    "## Función biblioteca"
   ]
  },
  {
   "cell_type": "code",
   "execution_count": 29,
   "metadata": {
    "colab": {
     "base_uri": "https://localhost:8080/",
     "height": 130
    },
    "id": "eJnXYmPpOUOY",
    "outputId": "74f19bcd-09d4-42ab-abbc-82afa7d2f190"
   },
   "outputs": [
    {
     "name": "stdin",
     "output_type": "stream",
     "text": [
      "Bienvenido al sistema. Que desearía hacer: \n",
      "  (A) Agregar nuevos libros a la biblioteca\n",
      "  (B) Buscar libros por título o autor\n",
      "  (L) listar todos los libros disponibles\n",
      "  (G) guardar la información de la biblioteca en un archivo de texto\n",
      "  (C) cargarla desde dicho archivo\n",
      "  (I) información de la bibliotecan\n",
      "  (S) Salir del programa: \n",
      "  >> a\n",
      "Introduzca el título(s:salir):  s\n",
      "Bienvenido al sistema. Que desearía hacer: \n",
      "  (A) Agregar nuevos libros a la biblioteca\n",
      "  (B) Buscar libros por título o autor\n",
      "  (L) listar todos los libros disponibles\n",
      "  (G) guardar la información de la biblioteca en un archivo de texto\n",
      "  (C) cargarla desde dicho archivo\n",
      "  (I) información de la bibliotecan\n",
      "  (S) Salir del programa: \n",
      "  >> C\n",
      "Bienvenido al sistema. Que desearía hacer: \n",
      "  (A) Agregar nuevos libros a la biblioteca\n",
      "  (B) Buscar libros por título o autor\n",
      "  (L) listar todos los libros disponibles\n",
      "  (G) guardar la información de la biblioteca en un archivo de texto\n",
      "  (C) cargarla desde dicho archivo\n",
      "  (I) información de la bibliotecan\n",
      "  (S) Salir del programa: \n",
      "  >> l\n"
     ]
    },
    {
     "name": "stdout",
     "output_type": "stream",
     "text": [
      "  ----------DISPONIBLE---------\n",
      "titulo1: autor autor1. Publicado el año 2000, y con 200 paginas. Actualmente está disponible\n",
      "titulo2: autor autor2. Publicado el año 2000, y con 200 paginas. Actualmente está disponible\n",
      "titulo3: autor autor2. Publicado el año 2001, y con 200 paginas. Actualmente está disponible\n",
      "  --------------------------\n"
     ]
    },
    {
     "name": "stdin",
     "output_type": "stream",
     "text": [
      "Bienvenido al sistema. Que desearía hacer: \n",
      "  (A) Agregar nuevos libros a la biblioteca\n",
      "  (B) Buscar libros por título o autor\n",
      "  (L) listar todos los libros disponibles\n",
      "  (G) guardar la información de la biblioteca en un archivo de texto\n",
      "  (C) cargarla desde dicho archivo\n",
      "  (I) información de la bibliotecan\n",
      "  (S) Salir del programa: \n",
      "  >> a\n",
      "Introduzca el título(s:salir):  Titulo5\n",
      "Introduzca el autor(s:salir):  Autor5\n",
      "Introduzca el año de publicacion(s:salir):  2004\n",
      "Introduzca el número de páginas(s:salir):  300\n",
      "Introduzca si se encuentra (D)disponible o (P)prestado (s:salir):  u\n"
     ]
    },
    {
     "name": "stdout",
     "output_type": "stream",
     "text": [
      "Opción no válida\n"
     ]
    },
    {
     "name": "stdin",
     "output_type": "stream",
     "text": [
      "Bienvenido al sistema. Que desearía hacer: \n",
      "  (A) Agregar nuevos libros a la biblioteca\n",
      "  (B) Buscar libros por título o autor\n",
      "  (L) listar todos los libros disponibles\n",
      "  (G) guardar la información de la biblioteca en un archivo de texto\n",
      "  (C) cargarla desde dicho archivo\n",
      "  (I) información de la bibliotecan\n",
      "  (S) Salir del programa: \n",
      "  >> s\n"
     ]
    },
    {
     "name": "stdout",
     "output_type": "stream",
     "text": [
      "---EXIT---\n"
     ]
    }
   ],
   "source": [
    "def mi_biblioteca():\n",
    "    biblioteca=[]\n",
    "    nulos = 1\n",
    "\n",
    "\n",
    "    def buscar(biblioteca,busqueda,atributo):\n",
    "        solucion = []\n",
    "        busqueda = busqueda.lower() if type(busqueda) == str else busqueda\n",
    "        for libro in biblioteca:\n",
    "            if libro.atributo(atributo) == busqueda:\n",
    "                solucion+=[libro]\n",
    "        return solucion\n",
    "  \n",
    "    def mostrar(biblioteca,titulo = 'MOSTRAR'):\n",
    "        print('  ----------'+titulo+'---------')\n",
    "        for libro in biblioteca:\n",
    "            libro.info()\n",
    "        print('  --------------------------')\n",
    "\n",
    "    def cargar_datos(biblioteca,titulo,autor,publicado,paginas,estado):\n",
    "        libro = Libro(titulo,autor,publicado,paginas,estado)\n",
    "        biblioteca+=[libro]\n",
    "        return biblioteca\n",
    "\n",
    "\n",
    "    while True:\n",
    "        #mostrar(biblioteca,titulo = 'MOSTRAR')\n",
    "        OPCION = input('Bienvenido al sistema. Que desearía hacer: \\n'+\n",
    "                       '  (A) Agregar nuevos libros a la biblioteca\\n'+\n",
    "                       '  (B) Buscar libros por título o autor\\n'+\n",
    "                       '  (L) listar todos los libros disponibles\\n'+\n",
    "                       '  (G) guardar la información de la biblioteca en un archivo de texto\\n'+\n",
    "                       '  (C) cargarla desde dicho archivo\\n'+\n",
    "                       '  (I) información de la bibliotecan\\n'+\n",
    "                       '  (S) Salir del programa: \\n  >>')\n",
    "        if OPCION.lower() == 'a':\n",
    "        # Añadir valores\n",
    "            titulo =input('Introduzca el título(s:salir): ')\n",
    "            if titulo != 's':\n",
    "                autor =input('Introduzca el autor(s:salir): ')\n",
    "                if autor != 's':\n",
    "                    publicado =input('Introduzca el año de publicacion(s:salir): ')\n",
    "                    if publicado != 's':\n",
    "                        paginas =input('Introduzca el número de páginas(s:salir): ')\n",
    "                        if paginas != 's':\n",
    "                            estado =input('Introduzca si se encuentra (D)disponible o (P)prestado (s:salir): ')\n",
    "                            if type(estado) != bool or estado not in ['disponible','disponible','d','p',True,False]:\n",
    "                                print(\"Estado de libro no válido\")\n",
    "                            elif estado != 's':\n",
    "                                estado = True if estado.lower()=='d' else False\n",
    "                                libro = Libro(titulo,autor,publicado,paginas,estado)\n",
    "                                biblioteca+=[libro]\n",
    "\n",
    "        elif OPCION.lower() == 'b':\n",
    "        # Buscar los libros por un atributos\n",
    "            OPCION_B = input('\\tBienvenido al sistema. Que desearía hacer: \\n'+\n",
    "                       '\\t  (T) Buscar libros por título\\n'+\n",
    "                       '\\t  (A) Buscar libros por autor\\n'+\n",
    "                       '\\t  (P) Buscar libros por año de publicación\\n'+\n",
    "                       '\\t  (S) Salir del programa: \\n\\t >>')\n",
    "            if OPCION_B.lower() == 't':\n",
    "                busqueda =input('Introduzca el título: ')\n",
    "                atributo = 'titulo'\n",
    "\n",
    "            elif OPCION_B.lower() == 'a':\n",
    "                busqueda =input('Introduzca el autor: ')\n",
    "                atributo = 'autor'\n",
    "\n",
    "            elif OPCION_B.lower() == 'p':\n",
    "                busqueda =int(input('Introduzca el año: '))\n",
    "                atributo = 'publicado'\n",
    "\n",
    "            if OPCION_B.lower() != 's':\n",
    "                resultado = buscar(biblioteca,busqueda,atributo)\n",
    "                mostrar(resultado)\n",
    "\n",
    "        elif OPCION.lower() == 'l':\n",
    "          # Listar datos disponibles\n",
    "            atributo = 'titulo' if OPCION.lower()=='t'else 'autor'\n",
    "            resultado = buscar(biblioteca,'disponible','estado str')\n",
    "            mostrar(resultado,'DISPONIBLE')\n",
    "\n",
    "\n",
    "        elif OPCION.lower() == 'c':\n",
    "            # Cargar datos\n",
    "            fichero = open(\"BIBLIOTECA.txt\", 'r')\n",
    "            lineas = fichero.readlines()\n",
    "\n",
    "            for linea in lineas:\n",
    "                lista = linea.split(',')\n",
    "                biblioteca+=[Libro(lista[0],lista[1],lista[2],lista[3],lista[4])]\n",
    "\n",
    "            fichero.close()\n",
    "\n",
    "        elif OPCION.lower() == 'g':\n",
    "          # Guardar los datos\n",
    "            lista = []\n",
    "            fichero = open(\"BIBLIOTECA.txt\", 'w')\n",
    "            for libro in biblioteca:\n",
    "                lista += [libro.info_str()+\"\\n\"]\n",
    "\n",
    "            fichero.writelines(lista)\n",
    "            fichero.close()\n",
    "\n",
    "        elif OPCION.lower() == 'i':\n",
    "            print('  ----------INFORMACION---------')\n",
    "\n",
    "            paginas = lambda a:a.atributo('paginas')\n",
    "            lista_paginas = list(map(paginas,biblioteca))\n",
    "            try:\n",
    "                print(f'Páginas totales: {sum(lista_paginas)}')\n",
    "                print(f'Media páginas por libro: {sum(lista_paginas)/len(lista_paginas)}')\n",
    "            except:\n",
    "                print(\"la biblioteca está bacía\")\n",
    "            print('  --------------------------')\n",
    "\n",
    "\n",
    "        elif OPCION.lower() == 's' or nulos ==3:\n",
    "            break\n",
    "        else:\n",
    "            print('Eleccion no válida')\n",
    "            nulos +=1\n",
    "    \n",
    "    print('---EXIT---')"
   ]
  },
  {
   "cell_type": "code",
   "execution_count": null,
   "metadata": {},
   "outputs": [],
   "source": [
    "mi_biblioteca()"
   ]
  }
 ],
 "metadata": {
  "colab": {
   "provenance": [],
   "toc_visible": true
  },
  "kernelspec": {
   "display_name": "Python 3 (ipykernel)",
   "language": "python",
   "name": "python3"
  },
  "language_info": {
   "codemirror_mode": {
    "name": "ipython",
    "version": 3
   },
   "file_extension": ".py",
   "mimetype": "text/x-python",
   "name": "python",
   "nbconvert_exporter": "python",
   "pygments_lexer": "ipython3",
   "version": "3.10.9"
  }
 },
 "nbformat": 4,
 "nbformat_minor": 4
}
