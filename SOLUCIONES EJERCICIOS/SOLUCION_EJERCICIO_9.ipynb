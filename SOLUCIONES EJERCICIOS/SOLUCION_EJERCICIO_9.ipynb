{
  "nbformat": 4,
  "nbformat_minor": 0,
  "metadata": {
    "colab": {
      "provenance": []
    },
    "kernelspec": {
      "name": "python3",
      "display_name": "Python 3"
    },
    "language_info": {
      "name": "python"
    }
  },
  "cells": [
    {
      "cell_type": "code",
      "execution_count": 4,
      "metadata": {
        "colab": {
          "base_uri": "https://localhost:8080/"
        },
        "id": "3htBwwq3CQ0t",
        "outputId": "80d45ccb-685e-4674-9b37-79a6cb99b0ad"
      },
      "outputs": [
        {
          "output_type": "stream",
          "name": "stdout",
          "text": [
            "Se ha creado la base de datos correctamente\n"
          ]
        }
      ],
      "source": [
        "import sqlite3\n",
        "\n",
        "def crear_bd():\n",
        "    try:\n",
        "        conexion = sqlite3.connect('restaurante1.db')\n",
        "        cursor = conexion.cursor()\n",
        "        cursor.execute('''\n",
        "            CREATE TABLE categoria(\n",
        "                id INTEGER PRIMARY KEY AUTOINCREMENT,\n",
        "                nombre VARCHAR(100) UNIQUE NOT NULL)\n",
        "        ''')\n",
        "        cursor.execute('''\n",
        "            CREATE TABLE plato(\n",
        "                id INTEGER PRIMARY KEY AUTOINCREMENT,\n",
        "                nombre VARCHAR(100) UNIQUE NOT NULL, \n",
        "                categoria_id INTEGER NOT NULL,\n",
        "                FOREIGN KEY(categoria_id) REFERENCES categoria(id))\n",
        "        ''')\n",
        "        print(\"Se ha creado la base de datos correctamente\")\n",
        "    except sqlite3.OperationalError:\n",
        "        print(\"La base de datos y las tablas ya existen\")\n",
        "    finally:\n",
        "        conexion.close()\n",
        "\n",
        "crear_bd()\n"
      ]
    },
    {
      "cell_type": "code",
      "source": [
        "import sqlite3\n",
        "\n",
        "def agregar_categoria():\n",
        "    nombre_categoria = input(\"Introduce el nombre de la categoría que deseas agregar: \")\n",
        "    try:\n",
        "        conexion = sqlite3.connect('restaurante1.db')\n",
        "        cursor = conexion.cursor()\n",
        "        cursor.execute('INSERT INTO categoria (nombre) VALUES (?)', [nombre_categoria])\n",
        "        conexion.commit()\n",
        "        print(\"Categoría agregada correctamente\")\n",
        "    except sqlite3.IntegrityError:\n",
        "        print(\"La categoría ya existe en la base de datos\")\n",
        "    finally:\n",
        "        conexion.close()\n",
        "\n",
        "def mostrar_menu():\n",
        "    print(\"Bienvenido al sistema de gestión de platos del restaurante\")\n",
        "    opcion = \"\"\n",
        "    while opcion != \"2\":\n",
        "        print(\"¿Qué deseas hacer?\")\n",
        "        print(\"1. Agregar una nueva categoría\")\n",
        "        print(\"2. Salir\")\n",
        "        opcion = input(\"Introduce el número de la opción que deseas: \")\n",
        "        if opcion == \"1\":\n",
        "            agregar_categoria()\n",
        "\n",
        "mostrar_menu()\n"
      ],
      "metadata": {
        "colab": {
          "base_uri": "https://localhost:8080/"
        },
        "id": "kxrwu1myE19A",
        "outputId": "7583293e-a7ea-437f-c2c5-ffa81ab9a881"
      },
      "execution_count": 5,
      "outputs": [
        {
          "name": "stdout",
          "output_type": "stream",
          "text": [
            "Bienvenido al sistema de gestión de platos del restaurante\n",
            "¿Qué deseas hacer?\n",
            "1. Agregar una nueva categoría\n",
            "2. Salir\n",
            "Introduce el número de la opción que deseas: 1\n",
            "Introduce el nombre de la categoría que deseas agregar: Primeros\n",
            "Categoría agregada correctamente\n",
            "¿Qué deseas hacer?\n",
            "1. Agregar una nueva categoría\n",
            "2. Salir\n",
            "Introduce el número de la opción que deseas: 1\n",
            "Introduce el nombre de la categoría que deseas agregar: Segundos\n",
            "Categoría agregada correctamente\n",
            "¿Qué deseas hacer?\n",
            "1. Agregar una nueva categoría\n",
            "2. Salir\n",
            "Introduce el número de la opción que deseas: 1\n",
            "Introduce el nombre de la categoría que deseas agregar: Postres\n",
            "Categoría agregada correctamente\n",
            "¿Qué deseas hacer?\n",
            "1. Agregar una nueva categoría\n",
            "2. Salir\n",
            "Introduce el número de la opción que deseas: 2\n"
          ]
        }
      ]
    },
    {
      "cell_type": "code",
      "source": [
        "def agregar_plato():\n",
        "    # Mostramos las categorías disponibles\n",
        "    conexion = sqlite3.connect('restaurante1.db')\n",
        "    cursor = conexion.cursor()\n",
        "    cursor.execute(\"SELECT * FROM categoria\")\n",
        "    categorias = cursor.fetchall()\n",
        "    print(\"Categorías disponibles:\")\n",
        "    for categoria in categorias:\n",
        "        print(f\"{categoria[0]}. {categoria[1]}\")\n",
        "    \n",
        "    # Pedimos al usuario que elija una categoría\n",
        "    categoria_id = input(\"Elige una categoría: \")\n",
        "    \n",
        "    # Pedimos al usuario el nombre del plato\n",
        "    nombre_plato = input(\"Introduce el nombre del plato: \")\n",
        "    \n",
        "    # Insertamos el plato en la base de datos\n",
        "    try:\n",
        "        cursor.execute(\"INSERT INTO plato (nombre, categoria_id) VALUES (?, ?)\", (nombre_plato, categoria_id))\n",
        "        conexion.commit()\n",
        "        print(\"Plato añadido correctamente!\")\n",
        "    except:\n",
        "        print(\"Error al añadir el plato. Comprueba que el nombre no está repetido y que la categoría existe.\")\n",
        "        \n",
        "def mostrar_menu():\n",
        "    print(\"Bienvenido al sistema de gestión de restaurantes\")\n",
        "    opcion = \"\"\n",
        "    while opcion != \"3\":\n",
        "        print(\"\\n1. Agregar categoría\")\n",
        "        print(\"2. Agregar plato\")\n",
        "        print(\"3. Salir\")\n",
        "        opcion = input(\"Elige una opción: \")\n",
        "        \n",
        "        if opcion == \"1\":\n",
        "            agregar_categoria()\n",
        "        elif opcion == \"2\":\n",
        "            agregar_plato()\n",
        "        elif opcion == \"3\":\n",
        "            print(\"Saliendo del programa...\")\n",
        "        else:\n",
        "            print(\"Opción no válida. Introduce una opción del 1 al 3.\")\n"
      ],
      "metadata": {
        "id": "8EP6OBs7FAeW"
      },
      "execution_count": 6,
      "outputs": []
    },
    {
      "cell_type": "code",
      "source": [
        "mostrar_menu()\n",
        "#agregar_plato(\"Ensalada del tiempo\", 1)\n",
        "#agregar_plato(\"Zumo de tomate\", 1)\n",
        "#agregar_plato(\"Estofado de pescado\", 2)\n",
        "#agregar_plato(\"Pollo con patatas\", 2)\n",
        "#agregar_plato(\"Flan con nata\", 3)\n",
        "#agregar_plato(\"Fruta del tiempo\", 3)\n"
      ],
      "metadata": {
        "colab": {
          "base_uri": "https://localhost:8080/"
        },
        "id": "XhJ5fa1xFAY6",
        "outputId": "5392f1ac-be00-42cc-9ef4-697f166ec9ee"
      },
      "execution_count": 9,
      "outputs": [
        {
          "output_type": "stream",
          "name": "stdout",
          "text": [
            "Bienvenido al sistema de gestión de restaurantes\n",
            "\n",
            "1. Agregar categoría\n",
            "2. Agregar plato\n",
            "3. Salir\n",
            "Elige una opción: 2\n",
            "Categorías disponibles:\n",
            "1. Primeros\n",
            "2. Segundos\n",
            "3. Postres\n",
            "Elige una categoría: 1\n",
            "Introduce el nombre del plato: Ensalada\n",
            "Plato añadido correctamente!\n",
            "\n",
            "1. Agregar categoría\n",
            "2. Agregar plato\n",
            "3. Salir\n",
            "Elige una opción: 3\n",
            "Saliendo del programa...\n"
          ]
        }
      ]
    },
    {
      "cell_type": "code",
      "source": [
        "import sqlite3\n",
        "\n",
        "# Función para mostrar el menú\n",
        "def mostrar_menu():\n",
        "    # Conexión a la base de datos\n",
        "    conn = sqlite3.connect('restaurante1.db')\n",
        "    c = conn.cursor()\n",
        "\n",
        "    # Obtener los platos agrupados por categoría\n",
        "    c.execute(\"SELECT categoria.nombre, plato.nombre FROM categoria JOIN plato ON categoria.id = plato.categoria_id ORDER BY categoria.id\")\n",
        "    platos = c.fetchall()\n",
        "\n",
        "    # Mostrar los platos agrupados por categoría\n",
        "    categoria_actual = \"\"\n",
        "    for plato in platos:\n",
        "        if plato[0] != categoria_actual:\n",
        "            categoria_actual = plato[0]\n",
        "            print(f\"\\n{categoria_actual.upper()}\")\n",
        "        print(f\"- {plato[1]}\")\n",
        "\n",
        "    # Cerrar la conexión a la base de datos\n",
        "    conn.close()\n",
        "\n",
        "# Ejecutar la función para mostrar el menú\n",
        "mostrar_menu()\n"
      ],
      "metadata": {
        "colab": {
          "base_uri": "https://localhost:8080/"
        },
        "id": "LVlk0ZZUFSvD",
        "outputId": "462a37f8-0b74-45bc-f79d-ca2c8b48bba6"
      },
      "execution_count": 10,
      "outputs": [
        {
          "output_type": "stream",
          "name": "stdout",
          "text": [
            "\n",
            "PRIMEROS\n",
            "- Ensalada\n"
          ]
        }
      ]
    }
  ]
}