{
  "nbformat": 4,
  "nbformat_minor": 0,
  "metadata": {
    "colab": {
      "provenance": []
    },
    "kernelspec": {
      "name": "python3",
      "display_name": "Python 3"
    },
    "language_info": {
      "name": "python"
    }
  },
  "cells": [
    {
      "cell_type": "markdown",
      "source": [
        "Escribir una función que reciba un diccionario con las notas de los alumno de un curso y devuelva una serie con la nota mínima, la máxima, media y la desviación típica."
      ],
      "metadata": {
        "id": "o_8eiDVkru-c"
      }
    },
    {
      "cell_type": "code",
      "execution_count": null,
      "metadata": {
        "id": "gEUbJz4zrhkx"
      },
      "outputs": [],
      "source": [
        "import pandas as pd\n",
        "\n",
        "def estadistica_notas(notas):\n",
        "    notas = pd.Series(notas)\n",
        "    estadisticos = pd.Series([notas.min(), notas.max(), notas.mean(), notas.std()], index=['Min', 'Max', 'Media', 'Desviación típica'])\n",
        "    return estadisticos\n",
        "\n",
        "notas = {'Juan':9, 'María':6.5, 'Pedro':4, 'Carmen': 8.5, 'Luis': 5}\n",
        "print(estadistica_notas(notas))"
      ]
    },
    {
      "cell_type": "markdown",
      "source": [
        "Escribir una función que reciba un diccionario con las notas de los alumnos de un curso y devuelva una serie con las notas de los alumnos aprobados ordenadas de mayor a menor."
      ],
      "metadata": {
        "id": "nTEg7Ph1sa0c"
      }
    },
    {
      "cell_type": "code",
      "source": [
        "import pandas as pd\n",
        "\n",
        "def aprobados(notas):\n",
        "    notas = pd.Series(notas)\n",
        "    return notas[notas >= 5].sort_values(ascending=False)\n",
        "\n",
        "notas = {'Juan':9, 'María':6.5, 'Pedro':4, 'Carmen': 8.5, 'Luis': 5}\n",
        "print(aprobados(notas))"
      ],
      "metadata": {
        "id": "OaqMYHbbsczs"
      },
      "execution_count": null,
      "outputs": []
    },
    {
      "cell_type": "markdown",
      "source": [
        "Escribir una función que reciba un DataFrame con el formato del ejercicio anterior, una lista de meses, y devuelva el balance (ventas - gastos) total en los meses indicados."
      ],
      "metadata": {
        "id": "OA5JGmyCsgC_"
      }
    },
    {
      "cell_type": "code",
      "source": [
        "import pandas as pd\n",
        "\n",
        "datos = {'Mes':['Enero', 'Febrero', 'Marzo', 'Abril'], 'Ventas':[30500, 35600, 28300, 33900], 'Gastos':[22000, 23400, 18100, 20700]}\n",
        "\n",
        "contabilidad = pd.DataFrame(datos)\n",
        "\n",
        "def balance(contabilidad, meses):\n",
        "    contabilidad['Balance'] = contabilidad.Ventas - contabilidad.Gastos\n",
        "    return contabilidad[contabilidad.Mes.isin(meses)].Balance.sum()\n",
        "\n",
        "print(balance(contabilidad, ['Enero','Marzo']))"
      ],
      "metadata": {
        "id": "mjGeUZy_shu-"
      },
      "execution_count": null,
      "outputs": []
    },
    {
      "cell_type": "markdown",
      "source": [
        "El fichero titanic.csv contiene información sobre los pasajeros del Titanic. Escribir un programa con los siguientes requisitos:\n",
        "\n",
        "1. Generar un DataFrame con los datos del fichero.\n",
        "2. Mostrar por pantalla las dimensiones del DataFrame, el número de datos que contiene, los nombres de sus columnas y filas, los tipos de datos de las columnas, las 10 primeras filas y las 10 últimas filas.\n",
        "3. Mostrar por pantalla los datos del pasajero con identificador 148.\n",
        "3. Mostrar por pantalla las filas pares del DataFrame.\n",
        "4. Mostrar por pantalla los nombres de las personas que iban en primera clase ordenadas alfabéticamente.\n",
        "5. Mostrar por pantalla el porcentaje de personas que sobrevivieron y murieron.\n",
        "5. Mostrar por pantalla el porcentaje de personas que sobrevivieron en cada clase.\n",
        "6. Eliminar del DataFrame los pasajeros con edad desconocida.\n",
        "7. Mostrar por pantalla la edad media de las mujeres que viajaban en cada clase.\n",
        "8.  Añadir una nueva columna booleana para ver si el pasajero era menor de edad o no.\n",
        "9.  Mostrar por pantalla el porcentaje de menores y mayores de edad que sobrevivieron en cada clase."
      ],
      "metadata": {
        "id": "itUOcfGotG0y"
      }
    },
    {
      "cell_type": "code",
      "source": [
        "import pandas as pd\n",
        "\n",
        "# Generar un DataFrame con los datos del fichero.\n",
        "titanic = pd.read_csv('https://raw.githubusercontent.com/asalber/asalber.github.io/master/python/ejercicios/soluciones/pandas/titanic.csv', index_col=0)\n",
        "\n",
        "print(titanic)\n",
        "\n",
        "# Mostrar por pantalla las dimensiones del DataFrame, el número de datos que contiene, los nombres de sus columnas y filas, los tipos de datos de las columnas, las 10 primeras filas y las 10 últimas filas.\n",
        "print('Dimensiones:', titanic.shape)\n",
        "print('Número de elemntos:', titanic.size)\n",
        "print('Nombres de columnas:', titanic.columns)\n",
        "print('Nombres de filas:', titanic.index)\n",
        "print('Tipos de datos:\\n', titanic.dtypes)\n",
        "print('Primeras 10 filas:\\n', titanic.head(10))\n",
        "print('Últimas 10 filas:\\n', titanic.tail(10))\n",
        "\n",
        "# Mostrar por pantalla los datos del pasajero con identificador 148\n",
        "print(titanic.loc[148])\n",
        "\n",
        "# Mostrar por pantalla las filas pares del DataFrame.\n",
        "print(titanic.iloc[range(0,titanic.shape[0],2)])\n",
        "\n",
        "# Mostrar los nombres de las personas que iban en primera clase ordenadas alfabéticamente.\n",
        "print(titanic[titanic[\"Pclass\"]==1]['Name'].sort_values())\n",
        "\n",
        "# Mostrar por pantalla el porcentaje de personas que sobrevivieron y murieron\n",
        "print(titanic['Survived'].value_counts()/titanic['Survived'].count() * 100)\n",
        "\n",
        "#Mostrar por pantalla el porcentaje de personas que sobrevivieron en cada clase\n",
        "print(titanic.groupby('Pclass')['Survived'].value_counts(normalize=True))\n",
        "\n",
        "# Eliminar del DataFrame los pasajeros con edad desconocida.\n",
        "titanic.dropna(subset=['Age'])\n",
        "\n",
        "# Mostrar la edad media de las mujeres que viajaban en cada clase.\n",
        "print(titanic.groupby(['Pclass','Sex'])['Age'].mean().unstack()['female'])\n",
        "\n",
        "# Añadir una nueva columna booleana para ver si el pasajero era menor de edad o no.\n",
        "titanic['Young'] = titanic['Age'] < 18\n",
        "\n",
        "# Mostrar el porcentaje de menores y mayores de edad que sobrevivieron en cada clase.\n",
        "print(titanic.groupby(['Pclass', 'Young'])['Survived'].value_counts(normalize = True) * 100)\n"
      ],
      "metadata": {
        "id": "AowlPUVutOUK"
      },
      "execution_count": null,
      "outputs": []
    },
    {
      "cell_type": "markdown",
      "source": [
        "Los ficheros emisiones-2016.csv, emisiones-2017.csv, emisiones-2018.csv y emisiones-2019.csv, contienen datos sobre las emisiones contaminates en la ciudad de Madrid en los años 2016, 2017, 2018 y 2019 respectivamente. Escribir un programa con los siguientes requisitos:\n",
        "\n",
        "1. Generar un DataFrame con los datos de los cuatro ficheros.\n",
        "2. Filtrar las columnas del DataFrame para quedarse con las columnas ESTACION, MAGNITUD, AÑO, MES y las correspondientes a los días D01, D02, etc. \n",
        "3. Reestructurar el DataFrame para que los valores de los contaminantes de las columnas de los días aparezcan en una única columna.\n",
        "4. Añadir una columna con la fecha a partir de la concatenación del año, el mes y el día (usar el módulo `datetime`).\n",
        "5. Eliminar las filas con fechas no válidas (utilizar la función `isnat` del módulo `numpy`) y ordenar el DataFrame por estaciones contaminantes y fecha.\n",
        "6. Mostrar por pantalla las estaciones y los contaminantes disponibles en el DataFrame.\n",
        "7. Crear una función que reciba una estación, un contaminante y un rango de fechas y devuelva una serie con las emisiones del contaminante dado en la estación y rango de fechas dado.\n",
        "8. Mostrar un resumen descriptivo (mínimo, máximo, media, etc.) para cada contaminante.\n",
        "9. Mostrar un resumen descriptivo para cada contaminante por distritos.\n",
        "10. Crear una función que reciba una estación y un contaminante y devuelva un resumen descriptivo de las emisiones del contaminante indicado en la estación indicada. \n",
        "11. Crear una función que devuelva las emisiones medias mensuales de un contaminante y un año dados para todos las estaciones.\n",
        "12. Crear un función que reciba una estación de medición y devuelva un DataFrame con las medias mensuales de los distintos tipos de contaminantes."
      ],
      "metadata": {
        "id": "wtABS8cgt-3T"
      }
    },
    {
      "cell_type": "code",
      "source": [
        "import pandas as pd\n",
        "import numpy as np\n",
        "import datetime as dt\n",
        "\n",
        "# Generar un DataFrame con los datos de los cuatro ficheros\n",
        "import pandas as pd \n",
        "\n",
        "emisiones_2016 = pd.read_csv('emisiones-2016.csv', sep = ';')\n",
        "emisiones_2017 = pd.read_csv('emisiones-2017.csv', sep = ';')\n",
        "emisiones_2018 = pd.read_csv('emisiones-2018.csv', sep = ';')\n",
        "emisiones_2019 = pd.read_csv('emisiones-2019.csv', sep = ';')\n",
        "emisiones = pd.concat([emisiones_2016, emisiones_2017, emisiones_2018, emisiones_2019])\n",
        "emisiones\n",
        "\n",
        "# Filtrar las columnas del DataFrame para quedarse con las columnas ESTACION, MAGNITUD, AÑO, MES y las correspondientes a los días D01, D02, etc. \n",
        "columnas = ['ESTACION', 'MAGNITUD', 'ANO', 'MES']\n",
        "columnas.extend([col for col in emisiones if col.startswith('D')])\n",
        "emisiones = emisiones[columnas]\n",
        "emisiones\n",
        "\n",
        "# Reestructurar el DataFrame para que los valores de los contaminantes de las columnas de los días aparezcan en una única columna.\n",
        "emisiones = emisiones.melt(id_vars=['ESTACION', 'MAGNITUD', 'ANO', 'MES'], var_name='DIA', value_name='VALOR')\n",
        "emisiones\n",
        "\n",
        "# Crear una nueva columna con las fechas a partir del año, mes y día\n",
        "# Primero eliminamos el caracter D del comienzo de la columna de los días\n",
        "emisiones['DIA'] = emisiones.DIA.str.strip('D')\n",
        "# Concatenamos las columnas del año, mes y día\n",
        "emisiones['FECHA'] = emisiones.ANO.apply(str) + '/' + emisiones.MES.apply(str) + '/' + emisiones.DIA.apply(str)\n",
        "# Convertimos la nueva columna al tipo fecha\n",
        "emisiones['FECHA'] = pd.to_datetime(emisiones.FECHA, format='%Y/%m/%d', infer_datetime_format=True, errors='coerce')\n",
        "emisiones\n",
        "\n",
        "# Eliminar las filas con fechas no válidas\n",
        "emisiones = emisiones.drop(emisiones[np.isnat(emisiones.FECHA)].index)\n",
        "# Ordenar el el dataframe por estación, magnitud y fecha\n",
        "emisiones.sort_values(['ESTACION', 'MAGNITUD', 'FECHA'])\n",
        "\n",
        "# Mostrar las estaciones disponibles\n",
        "print('Estaciones:', emisiones.ESTACION.unique())\n",
        "# Mostrar los contaminantes disponibles\n",
        "print('Contaminantes:', emisiones.MAGNITUD.unique())\n",
        "\n",
        "# Función que devuelve las emisiones de un contaminante dado en una estación y rango de fechas dado.\n",
        "def evolucion(estacion, contaminante, desde, hasta):\n",
        "    return emisiones[(emisiones.ESTACION == estacion) & (emisiones.MAGNITUD == contaminante) & (emisiones.FECHA >= desde) & (emisiones.FECHA <= hasta)].sort_values('FECHA').VALOR\n",
        "evolucion(56, 8, dt.datetime.strptime('2018/10/25', '%Y/%m/%d'), dt.datetime.strptime('2019/02/12', '%Y/%m/%d'))\n",
        "\n",
        "# Resumen descriptivo por contaminantes\n",
        "emisiones.groupby('MAGNITUD').VALOR.describe()\n",
        "\n",
        "# Resumen descriptivo por contaminantes y distritos\n",
        "emisiones.groupby(['ESTACION', 'MAGNITUD']).VALOR.describe()\n",
        "\n",
        "# Función que devuelve un resumen descriptivo de la emisiones en un contaminante dado en un estación dada\n",
        "def resumen(estacion, contaminante):\n",
        "    return emisiones[(emisiones.ESTACION == estacion) & (emisiones.MAGNITUD == contaminante)].VALOR.describe()\n",
        "\n",
        "# Resumen de Dióxido de Nitrógeno en Plaza Elíptica\n",
        "print('Resumen Dióxido de Nitrógeno en Plaza Elíptica:\\n', resumen(56, 8),'\\n', sep='')\n",
        "# Resumen de Dióxido de Nitrógeno en Plaza del Carmen\n",
        "print('Resumen Dióxido de Nitrógeno en Plaza del Carmen:\\n', resumen(35, 8), sep='')\n",
        "\n",
        "# Función que devuelve una serie con las emisiones medias mensuales de un contaminante y un mes año para todos las estaciones\n",
        "def evolucion_mensual(contaminante, año):\n",
        "    return emisiones[(emisiones.MAGNITUD == contaminante) & (emisiones.ANO == año)].groupby(['ESTACION', 'MES']).VALOR.mean().unstack('MES')\n",
        "\n",
        "# Evolución del dióxido de nitrógeno en 2019\n",
        "evolucion_mensual(8, 2019)"
      ],
      "metadata": {
        "id": "Dxg6WRIctf92"
      },
      "execution_count": null,
      "outputs": []
    }
  ]
}