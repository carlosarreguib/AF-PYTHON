{
  "nbformat": 4,
  "nbformat_minor": 0,
  "metadata": {
    "colab": {
      "provenance": []
    },
    "kernelspec": {
      "name": "python3",
      "display_name": "Python 3"
    },
    "language_info": {
      "name": "python"
    }
  },
  "cells": [
    {
      "cell_type": "markdown",
      "source": [
        "Escribir un programa que pregunte por consola por los productos de una cesta de la compra, separados por comas, y muestre por pantalla cada uno de los productos en una línea distinta.\n"
      ],
      "metadata": {
        "id": "rHrm-sw5Pijf"
      }
    },
    {
      "cell_type": "code",
      "execution_count": null,
      "metadata": {
        "id": "hbaH0Zj4PBmH"
      },
      "outputs": [],
      "source": [
        "cesta = input('Introduce los productos de la cesta de la compra separados por comas: ')\n",
        "print(cesta.replace(',', '\\n'))"
      ]
    },
    {
      "cell_type": "markdown",
      "source": [
        "Escribir un programa que pregunte el nombre del usuario en la consola y después de que el usuario lo introduzca muestre por pantalla `<NOMBRE> tiene <n> letras`, donde `<NOMBRE>` es el nombre de usuario en mayúsculas y `<n>` es el número de letras que tienen el nombre."
      ],
      "metadata": {
        "id": "aSmHKgkBPoIt"
      }
    },
    {
      "cell_type": "code",
      "source": [
        "nombre = input(\"¿Cómo te llamas? \")\n",
        "print(nombre.upper() + \" tiene \" + str(len(nombre)) + \" letras\")"
      ],
      "metadata": {
        "id": "PErYHrVWPqjC"
      },
      "execution_count": null,
      "outputs": []
    },
    {
      "cell_type": "markdown",
      "source": [
        "Escribir un programa que pida al usuario dos números enteros y muestre por pantalla la `<n> entre <m> da un cociente <c> y un resto <r>` donde `<n>` y `<m>` son los números introducidos por el usuario, y `<c>` y `<r>` son el cociente y el resto de la división entera respectivamente."
      ],
      "metadata": {
        "id": "EaOaB_SnPtMh"
      }
    },
    {
      "cell_type": "code",
      "source": [
        "n = input(\"Introduce el dividendo (entero): \")\n",
        "m = input(\"Introduce el divisor (entero): \")\n",
        "print(n + \" entre \" +  m + \" da un cociente \" + str(int(n) // int(m)) + \" y un resto \" + str(int(n) % int(m)))"
      ],
      "metadata": {
        "id": "o2_TxUbaPwCG"
      },
      "execution_count": null,
      "outputs": []
    },
    {
      "cell_type": "markdown",
      "source": [
        "Imagina que acabas de abrir una nueva cuenta de ahorros que te ofrece el 4% de interés al año. Estos ahorros debido a intereses, que no se cobran hasta finales de año, se te añaden al balance final de tu cuenta de ahorros. Escribir un programa que comience leyendo la cantidad de dinero depositada en la cuenta de ahorros, introducida por el usuario. Después el programa debe calcular y mostrar por pantalla la cantidad de ahorros tras el primer, segundo y tercer años. Redondear cada cantidad a dos decimales.  "
      ],
      "metadata": {
        "id": "5LrTTjXfPyYS"
      }
    },
    {
      "cell_type": "code",
      "source": [
        "inversion = float(input(\"Introduce la inversión inicial: \"))\n",
        "interes = 0.04\n",
        "balance1 = inversion * (1 + interes)\n",
        "print(\"Balance tras el primer año:\" + str(round(balance1, 2)))\n",
        "balance2 = balance1 * (1 + interes)\n",
        "print(\"Balance tras el segundo año:\" + str(round(balance2, 2)))\n",
        "balance3 = balance2 * (1 + interes)\n",
        "print(\"Balance tras el tercer año:\" + str(round(balance3, 2)))"
      ],
      "metadata": {
        "id": "Fk-DPfCLP0rp"
      },
      "execution_count": null,
      "outputs": []
    },
    {
      "cell_type": "markdown",
      "source": [
        "Una panadería vende barras de pan a 3.49€ cada una. El pan que no es el día tiene un descuento del 60%. Escribe un programa que comience leyendo el número de barras vendidas que no son del día. Después tu programa debe mostrar el precio habitual de una barra de pan, el descuento que se le hace por no ser fresca y el coste final total. "
      ],
      "metadata": {
        "id": "MGEl5M6WP3V1"
      }
    },
    {
      "cell_type": "code",
      "source": [
        "barras = int(input(\"Introduce el número de barras vendidas que no son frescas: \"))\n",
        "precio = 3.49 \n",
        "descuento = 0.6\n",
        "coste = barras * precio * (1 - descuento)\n",
        "print(\"El coste de una barra fresca es \" + str(precio) + \"€\")\n",
        "print(\"El descuento sobre una barra no fresca es \" + str(descuento * 100) + \"%\")\n",
        "print(\"El coste final a pagar es \" + str(round(coste, 2)) + \"€\")"
      ],
      "metadata": {
        "id": "QxsAmjT1P5da"
      },
      "execution_count": null,
      "outputs": []
    }
  ]
}
