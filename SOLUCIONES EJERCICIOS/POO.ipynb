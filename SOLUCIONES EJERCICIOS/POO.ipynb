{
  "nbformat": 4,
  "nbformat_minor": 0,
  "metadata": {
    "colab": {
      "provenance": []
    },
    "kernelspec": {
      "name": "python3",
      "display_name": "Python 3"
    },
    "language_info": {
      "name": "python"
    }
  },
  "cells": [
    {
      "cell_type": "markdown",
      "source": [
        "Plantear una clase que administre dos listas de 5 nombres de alumnos y sus notas. Mostrar un menú de opciones que permita: \n",
        "\n",
        "1. Cargar alumnos. \n",
        "2. Listar alumnos. \n",
        "3. Mostrar alumnos con notas mayores o iguales a 7. \n",
        "4. Finalizar programa.\n"
      ],
      "metadata": {
        "id": "wRQC_u8caYCD"
      }
    },
    {
      "cell_type": "code",
      "execution_count": 1,
      "metadata": {
        "colab": {
          "base_uri": "https://localhost:8080/"
        },
        "id": "UcePJ8ybY1AP",
        "outputId": "61ba4fd6-5d12-4fbb-babd-191f99bc8d4e"
      },
      "outputs": [
        {
          "output_type": "stream",
          "name": "stdout",
          "text": [
            "Seleccione una opción:\n",
            "1. Cargar alumnos\n",
            "2. Listar alumnos\n",
            "3. Mostrar alumnos con notas mayores o iguales a 7\n",
            "4. Finalizar programa\n",
            "Opción: 1\n",
            "Ingrese nombre del alumno 1: Jorge\n",
            "Ingrese nota del alumno 1: 6\n",
            "Ingrese nombre del alumno 2: Jorge\n",
            "Ingrese nota del alumno 2: 7\n",
            "Ingrese nombre del alumno 3: Jorge\n",
            "Ingrese nota del alumno 3: 4\n",
            "Ingrese nombre del alumno 4: Jorge\n",
            "Ingrese nota del alumno 4: 5\n",
            "Ingrese nombre del alumno 5: Jorge\n",
            "Ingrese nota del alumno 5: 9\n",
            "Seleccione una opción:\n",
            "1. Cargar alumnos\n",
            "2. Listar alumnos\n",
            "3. Mostrar alumnos con notas mayores o iguales a 7\n",
            "4. Finalizar programa\n",
            "Opción: 2\n",
            "Lista de alumnos y notas:\n",
            "Jorge - 6.0\n",
            "Jorge - 7.0\n",
            "Jorge - 4.0\n",
            "Jorge - 5.0\n",
            "Jorge - 9.0\n",
            "Seleccione una opción:\n",
            "1. Cargar alumnos\n",
            "2. Listar alumnos\n",
            "3. Mostrar alumnos con notas mayores o iguales a 7\n",
            "4. Finalizar programa\n",
            "Opción: 3\n",
            "Alumnos con notas mayores o iguales a 7:\n",
            "Jorge - 7.0\n",
            "Jorge - 9.0\n",
            "Seleccione una opción:\n",
            "1. Cargar alumnos\n",
            "2. Listar alumnos\n",
            "3. Mostrar alumnos con notas mayores o iguales a 7\n",
            "4. Finalizar programa\n",
            "Opción: 4\n",
            "Programa finalizado.\n"
          ]
        }
      ],
      "source": [
        "class AdminAlumnos():\n",
        "    \n",
        "    def __init__(self):\n",
        "        self.alumnos = []\n",
        "        self.notas = []\n",
        "    \n",
        "    def cargar_alumnos(self):\n",
        "        for i in range(5):\n",
        "            nombre = input(f\"Ingrese nombre del alumno {i+1}: \")\n",
        "            nota = float(input(f\"Ingrese nota del alumno {i+1}: \"))\n",
        "            self.alumnos.append(nombre)\n",
        "            self.notas.append(nota)\n",
        "    \n",
        "    def listar_alumnos(self):\n",
        "        print(\"Lista de alumnos y notas:\")\n",
        "        for i in range(5):\n",
        "            print(f\"{self.alumnos[i]} - {self.notas[i]}\")\n",
        "    \n",
        "    def listar_notas_altas(self):\n",
        "        print(\"Alumnos con notas mayores o iguales a 7:\")\n",
        "        for i in range(5):\n",
        "            if self.notas[i] >= 7:\n",
        "                print(f\"{self.alumnos[i]} - {self.notas[i]}\")\n",
        "    \n",
        "    def menu(self):\n",
        "        opcion = 0\n",
        "        while opcion != 4:\n",
        "            print(\"Seleccione una opción:\")\n",
        "            print(\"1. Cargar alumnos\")\n",
        "            print(\"2. Listar alumnos\")\n",
        "            print(\"3. Mostrar alumnos con notas mayores o iguales a 7\")\n",
        "            print(\"4. Finalizar programa\")\n",
        "            opcion = int(input(\"Opción: \"))\n",
        "            if opcion == 1:\n",
        "                self.cargar_alumnos()\n",
        "            elif opcion == 2:\n",
        "                self.listar_alumnos()\n",
        "            elif opcion == 3:\n",
        "                self.listar_notas_altas()\n",
        "            elif opcion == 4:\n",
        "                print(\"Programa finalizado.\")\n",
        "            else:\n",
        "                print(\"Opción inválida. Intente nuevamente.\")\n",
        "\n",
        "\n",
        "admin_alumnos = AdminAlumnos()\n",
        "admin_alumnos.menu()\n"
      ]
    },
    {
      "cell_type": "markdown",
      "source": [
        "Plantear una clase Persona que contenga dos atributos: nombre y edad. Definir como responsabilidades la carga por teclado y un metodo para su impresión. Declarar una segunda clase llamada Empleado que herede de la clase Persona y agregue un atributo sueldo y muestre si debe pagar impuestos (sueldo superior a 3000)"
      ],
      "metadata": {
        "id": "R3RxHf2iafE8"
      }
    },
    {
      "cell_type": "code",
      "source": [
        "class Persona:\n",
        "    \n",
        "    def __init__(self):\n",
        "        self.nombre = \"\"\n",
        "        self.edad = 0\n",
        "    \n",
        "    def cargar(self):\n",
        "        self.nombre = input(\"Ingrese nombre: \")\n",
        "        self.edad = int(input(\"Ingrese edad: \"))\n",
        "    \n",
        "    def imprimir(self):\n",
        "        print(f\"Nombre: {self.nombre} - Edad: {self.edad}\")\n",
        "\n",
        "\n",
        "class Empleado(Persona):\n",
        "    \n",
        "    def __init__(self):\n",
        "        super().__init__()\n",
        "        self.sueldo = 0\n",
        "    \n",
        "    def cargar(self):\n",
        "        super().cargar()\n",
        "        self.sueldo = float(input(\"Ingrese sueldo: \"))\n",
        "    \n",
        "    def imprimir(self):\n",
        "        super().imprimir()\n",
        "        if self.sueldo > 3000:\n",
        "            print(\"Debe pagar impuestos.\")\n",
        "        else:\n",
        "            print(\"No debe pagar impuestos.\")\n",
        "\n",
        "persona = Persona()\n",
        "persona.cargar()\n",
        "persona.imprimir()\n",
        "\n",
        "empleado = Empleado()\n",
        "empleado.cargar()\n",
        "empleado.imprimir()\n"
      ],
      "metadata": {
        "colab": {
          "base_uri": "https://localhost:8080/"
        },
        "id": "9GJwLWw3bm4a",
        "outputId": "4106f484-0f2a-4b9f-94db-ea5b97c11387"
      },
      "execution_count": 2,
      "outputs": [
        {
          "output_type": "stream",
          "name": "stdout",
          "text": [
            "Ingrese nombre: Jorge\n",
            "Ingrese edad: 30\n",
            "Nombre: Jorge - Edad: 30\n",
            "Ingrese nombre: Jorge\n",
            "Ingrese edad: 30\n",
            "Ingrese sueldo: 1\n",
            "Nombre: Jorge - Edad: 30\n",
            "No debe pagar impuestos.\n"
          ]
        }
      ]
    },
    {
      "cell_type": "markdown",
      "source": [
        "Imagina que estás creando un juego de rol en el que los personajes pueden ser guerreros, magos o arqueros. Todos los personajes tienen un atributo de fuerza, pero los guerreros tienen un bonus adicional de fuerza. Crea una clase base llamada Personaje que tenga un atributo fuerza y un método atacar(), y luego crea las clases hijas Guerrero, Mago y Arquero que hereden de Personaje y tengan su propio bonus de fuerza."
      ],
      "metadata": {
        "id": "o9I-TgHeaiQZ"
      }
    },
    {
      "cell_type": "code",
      "source": [
        "class Personaje:\n",
        "    \n",
        "    def __init__(self, fuerza):\n",
        "        self.fuerza = fuerza\n",
        "    \n",
        "    def atacar(self):\n",
        "        print(f\"El personaje ataca con una fuerza de {self.fuerza}.\")\n",
        "\n",
        "\n",
        "class Guerrero(Personaje):\n",
        "    \n",
        "    def __init__(self, fuerza_base, bonus_fuerza):\n",
        "        super().__init__(fuerza_base + bonus_fuerza)\n",
        "    \n",
        "\n",
        "class Mago(Personaje):\n",
        "    \n",
        "    def __init__(self, fuerza_base, bonus_fuerza):\n",
        "        super().__init__(fuerza_base + bonus_fuerza)\n",
        "\n",
        "\n",
        "class Arquero(Personaje):\n",
        "    \n",
        "    def __init__(self, fuerza_base, bonus_fuerza):\n",
        "        super().__init__(fuerza_base + bonus_fuerza)\n",
        "\n",
        "guerrero = Guerrero(10, 5)  # fuerza base = 10, bonus de fuerza = 5\n",
        "guerrero.atacar()  # El guerrero ataca con una fuerza de 15.\n",
        "\n",
        "mago = Mago(8, 3)  # fuerza base = 8, bonus de fuerza = 3\n",
        "mago.atacar()  # El mago ataca con una fuerza de 11.\n",
        "\n",
        "arquero = Arquero(12, 2)  # fuerza base = 12, bonus de fuerza = 2\n",
        "arquero.atacar()  # El arquero ataca con una fuerza de 14.\n"
      ],
      "metadata": {
        "colab": {
          "base_uri": "https://localhost:8080/"
        },
        "id": "L0OVjM-2bwBq",
        "outputId": "76b2c4a1-9b7c-44dd-be96-bed30910943e"
      },
      "execution_count": 3,
      "outputs": [
        {
          "output_type": "stream",
          "name": "stdout",
          "text": [
            "El personaje ataca con una fuerza de 15.\n",
            "El personaje ataca con una fuerza de 11.\n",
            "El personaje ataca con una fuerza de 14.\n"
          ]
        }
      ]
    },
    {
      "cell_type": "markdown",
      "source": [
        "Imagina que estás creando un programa para una tienda en línea que vende productos. Cada producto tiene un precio y una descripción, y algunos productos son electrónicos y tienen un atributo adicional de garantía. Crea una clase base llamada Producto que tenga atributos precio y descripcion, y luego crea una clase Electronico que tenga un atributo adicional garantia y utilice composición para incluir un objeto de la clase Producto."
      ],
      "metadata": {
        "id": "ze_x7lXeald3"
      }
    },
    {
      "cell_type": "code",
      "source": [
        "class Producto:\n",
        "    \n",
        "    def __init__(self, precio, descripcion):\n",
        "        self.precio = precio\n",
        "        self.descripcion = descripcion\n",
        "\n",
        "\n",
        "class Electronico:\n",
        "    \n",
        "    def __init__(self, producto, garantia):\n",
        "        self.producto = producto\n",
        "        self.garantia = garantia\n",
        "\n",
        "producto1 = Producto(100, \"Pendrive de 64 GB\")\n",
        "electronico1 = Electronico(producto1, 1)  # Garantía de 1 año\n",
        "\n",
        "producto2 = Producto(500, \"Laptop de 15 pulgadas\")\n",
        "electronico2 = Electronico(producto2, 2)  # Garantía de 2 años\n",
        "\n",
        "print(electronico1.producto.descripcion)  # Pendrive de 64 GB\n",
        "print(electronico2.producto.precio)  # 500\n"
      ],
      "metadata": {
        "colab": {
          "base_uri": "https://localhost:8080/"
        },
        "id": "nGxF6wsocJ60",
        "outputId": "b3f8fa83-a9e9-4efe-84f8-6a588487ddc5"
      },
      "execution_count": 4,
      "outputs": [
        {
          "output_type": "stream",
          "name": "stdout",
          "text": [
            "Pendrive de 64 GB\n",
            "500\n"
          ]
        }
      ]
    },
    {
      "cell_type": "markdown",
      "source": [
        "Imagina que estás creando un programa para una biblioteca que tiene libros, revistas y periódicos. Todos los materiales tienen un atributo de título, pero los libros y las revistas tienen un atributo adicional de autor o editor, respectivamente. Además, las revistas y los periódicos tienen un atributo adicional de fecha de publicación. Crea una clase base llamada Material que tenga un atributo titulo, y luego crea las clases hijas Libro, Revista y Periodico que hereden de Material y tengan sus propios atributos."
      ],
      "metadata": {
        "id": "ksXS6-hrapIP"
      }
    },
    {
      "cell_type": "code",
      "source": [
        "class Material:\n",
        "    \n",
        "    def __init__(self, titulo):\n",
        "        self.titulo = titulo\n",
        "        \n",
        "        \n",
        "class Libro(Material):\n",
        "    \n",
        "    def __init__(self, titulo, autor):\n",
        "        super().__init__(titulo)\n",
        "        self.autor = autor\n",
        "        \n",
        "        \n",
        "class Revista(Material):\n",
        "    \n",
        "    def __init__(self, titulo, editor, fecha_publicacion):\n",
        "        super().__init__(titulo)\n",
        "        self.editor = editor\n",
        "        self.fecha_publicacion = fecha_publicacion\n",
        "        \n",
        "        \n",
        "class Periodico(Material):\n",
        "    \n",
        "    def __init__(self, titulo, fecha_publicacion):\n",
        "        super().__init__(titulo)\n",
        "        self.fecha_publicacion = fecha_publicacion\n",
        "\n",
        "libro1 = Libro(\"Los juegos del hambre\", \"Suzanne Collins\")\n",
        "revista1 = Revista(\"National Geographic\", \"Susan Goldberg\", \"mayo 2021\")\n",
        "periodico1 = Periodico(\"The New York Times\", \"23 de abril de 2023\")\n",
        "\n",
        "print(libro1.autor)  # Suzanne Collins\n",
        "print(revista1.fecha_publicacion)  # mayo 2021\n",
        "print(periodico1.titulo)  # The New York Times\n"
      ],
      "metadata": {
        "colab": {
          "base_uri": "https://localhost:8080/"
        },
        "id": "uOmlaJhkcXn7",
        "outputId": "9281d41a-fad2-4c69-93b6-c27e9e6b95fc"
      },
      "execution_count": 5,
      "outputs": [
        {
          "output_type": "stream",
          "name": "stdout",
          "text": [
            "Suzanne Collins\n",
            "mayo 2021\n",
            "The New York Times\n"
          ]
        }
      ]
    }
  ]
}
