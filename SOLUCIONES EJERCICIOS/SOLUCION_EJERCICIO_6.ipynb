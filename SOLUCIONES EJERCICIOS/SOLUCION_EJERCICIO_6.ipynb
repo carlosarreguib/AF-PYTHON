{
  "nbformat": 4,
  "nbformat_minor": 0,
  "metadata": {
    "colab": {
      "provenance": []
    },
    "kernelspec": {
      "name": "python3",
      "display_name": "Python 3"
    },
    "language_info": {
      "name": "python"
    }
  },
  "cells": [
    {
      "cell_type": "markdown",
      "source": [
        "Escribir una función reciba una lista de notas y devuelva la lista de calificaciones correspondientes a esas notas."
      ],
      "metadata": {
        "id": "v2YJDsKiHmHP"
      }
    },
    {
      "cell_type": "code",
      "execution_count": 1,
      "metadata": {
        "colab": {
          "base_uri": "https://localhost:8080/"
        },
        "id": "hd8n5BOmHYHw",
        "outputId": "c114900d-12d3-442c-fe13-4ad0382ee374"
      },
      "outputs": [
        {
          "output_type": "execute_result",
          "data": {
            "text/plain": [
              "['AP', 'AP', 'SS', 'NT', 'SS', 'SB', 'MH']"
            ]
          },
          "metadata": {},
          "execution_count": 1
        }
      ],
      "source": [
        "def grade(score):\n",
        "\n",
        "    if score < 5:\n",
        "        return 'SS'\n",
        "    elif score < 7:\n",
        "        return 'AP'\n",
        "    elif score < 9:\n",
        "        return 'NT'\n",
        "    elif score < 10:\n",
        "        return 'SB'\n",
        "    else:\n",
        "        return 'MH'\n",
        "\n",
        "scores = [6.5, 5, 3.4, 8.2, 2.1, 9.7, 10]\n",
        "\n",
        "print(list(map(grade, scores)))\n"
      ]
    },
    {
      "cell_type": "markdown",
      "source": [
        "Escribir una función reciba un diccionario con la las asignaturas y las notas de un alumno y devuelva otro diccionario con las asignaturas en mayúsculas y las calificaciones correspondientes a las notas."
      ],
      "metadata": {
        "id": "HUReE4E0HxTu"
      }
    },
    {
      "cell_type": "code",
      "source": [
        "def grade(score):\n",
        "    if score < 5:\n",
        "        return 'SS'\n",
        "    elif score < 7:\n",
        "        return 'AP'\n",
        "    elif score < 9:\n",
        "        return 'NT'\n",
        "    elif score < 10:\n",
        "        return 'SB'\n",
        "    else:\n",
        "        return 'MH'\n",
        "\n",
        "def apply_grade(scores):\n",
        "    subjects = map(str.upper, scores.keys())\n",
        "    grades = map(grade, scores.values())\n",
        "    return dict(zip(subjects, grades))\n",
        "\n",
        "print(apply_grade({'Matemáticas':6.5, 'Física':5, 'Química':3.4, 'Economía':8.2, 'Historia':9.7, 'Programación':10}))"
      ],
      "metadata": {
        "colab": {
          "base_uri": "https://localhost:8080/"
        },
        "id": "PhbtoTPgH1qM",
        "outputId": "20c3453d-9916-4e48-f033-f1fd765f1464"
      },
      "execution_count": 5,
      "outputs": [
        {
          "output_type": "stream",
          "name": "stdout",
          "text": [
            "{'MATEMÁTICAS': 'AP', 'FÍSICA': 'AP', 'QUÍMICA': 'SS', 'ECONOMÍA': 'NT', 'HISTORIA': 'SB', 'PROGRAMACIÓN': 'MH'}\n"
          ]
        }
      ]
    },
    {
      "cell_type": "markdown",
      "source": [
        "Escribir una función reciba un diccionario con la las asignaturas y las notas de un alumno y devuelva otro diccionario con las asignaturas en mayúsculas y las calificaciones correspondientes a las notas aprobadas."
      ],
      "metadata": {
        "id": "5_hLhRjoH5Yv"
      }
    },
    {
      "cell_type": "code",
      "source": [
        "def grade(score):\n",
        "    if score < 5:\n",
        "        return 'SS'\n",
        "    elif score < 7:\n",
        "        return 'AP'\n",
        "    elif score < 9:\n",
        "        return 'NT'\n",
        "    elif score < 10:\n",
        "        return 'SB'\n",
        "    else:\n",
        "        return 'MH'\n",
        "\n",
        "def passed_subject(subject):\n",
        "    return (subject[1] >= 5)\n",
        "\n",
        "\n",
        "def apply_grade(scores):\n",
        "  \n",
        "    passed = dict(filter(passed_subject, scores.items()))\n",
        "    subjects = map(str.upper, passed.keys())\n",
        "    grades = map(grade, passed.values())\n",
        "    return dict(zip(subjects, grades))\n",
        "\n",
        "print(apply_grade({'Matemáticas':6.5, 'Física':5, 'Química':3.4, 'Economía':8.2, 'Historia':9.7, 'Programación':10}))"
      ],
      "metadata": {
        "colab": {
          "base_uri": "https://localhost:8080/"
        },
        "id": "J8B3LJA_H5y0",
        "outputId": "663dd4af-0dd2-438d-bcb0-7bd6d81a189a"
      },
      "execution_count": 6,
      "outputs": [
        {
          "output_type": "stream",
          "name": "stdout",
          "text": [
            "{'MATEMÁTICAS': 'AP', 'FÍSICA': 'AP', 'ECONOMÍA': 'NT', 'HISTORIA': 'SB', 'PROGRAMACIÓN': 'MH'}\n"
          ]
        }
      ]
    },
    {
      "cell_type": "markdown",
      "source": [
        "Una inmobiliaria de una ciudad maneja una lista de inmuebles como la siguiente:\n",
        "\n",
        "`[{'año': 2000, 'metros': 100, 'habitaciones': 3, 'garaje': True, 'zona': 'A'},\n",
        "{'año': 2012, 'metros': 60, 'habitaciones': 2, 'garaje': True, 'zona': 'B'},\n",
        "{'año': 1980, 'metros': 120, 'habitaciones': 4, 'garaje': False, 'zona': 'A'},\n",
        "{'año': 2005, 'metros': 75, 'habitaciones': 3, 'garaje': True, 'zona': 'B'},\n",
        "{'año': 2015, 'metros': 90, 'habitaciones': 2, 'garaje': False, 'zona': 'A'}]`\n",
        "\n",
        "Construir una función que permita hacer búsqueda de inmuebles en función de un presupuesto dado. La función recibirá como entrada la lista de inmuebles y un precio, y devolverá otra lista con los inmuebles cuyo precio sea menor o igual que el dado. Los inmuebles de la lista que se devuelva deben incorporar un nuevo par a cada diccionario con el precio del inmueble, donde el precio de un inmueble se calcula con las siguiente fórmula en función de la zona:\n",
        "\n",
        "- Zona A: precio = (metros x 1000 + habitaciones x 5000 + garaje x 15000) x (1 - antiguedad / 100)\n",
        "- Zona B: precio = (metros x 1000 + habitaciones x 5000 + garaje x 15000) x (1 - antiguedad / 100) x 1.5"
      ],
      "metadata": {
        "id": "cpQRVozmH_pM"
      }
    },
    {
      "cell_type": "code",
      "source": [
        "pisos = [{'año': 2000, 'metros': 100, 'habitaciones': 3, 'garaje': True, 'zona': 'A'}, {'año': 2012, 'metros': 60, 'habitaciones': 2, 'garaje': True, 'zona': 'B'}, {'año': 1980, 'metros': 120, 'habitaciones': 4, 'garaje': False, 'zona': 'A'}, {'año': 2005, 'metros': 75, 'habitaciones': 3, 'garaje': True, 'zona': 'B'}, {'año': 2015, 'metros': 90, 'habitaciones': 2, 'garaje': False, 'zona': 'A'}]\n",
        "\n",
        "def añadir_precio(piso):\n",
        "    precio = (piso['metros'] * 1000 + piso['habitaciones'] * 5000 + int(piso['garaje']) * 15000) * (1 - (2020 - piso['año']) / 100)\n",
        "    if piso['zona'] == 'B':\n",
        "        precio *= 1.5\n",
        "    piso['precio'] = precio\n",
        "    return piso\n",
        "\n",
        "def busca_piso(pisos, presupuesto):\n",
        "    def filtro(piso):\n",
        "        return piso['precio'] <= presupuesto\n",
        "\n",
        "    return list(filter(filtro,map(añadir_precio, pisos)))\n",
        "\n",
        "print(busca_piso(pisos, 100000))"
      ],
      "metadata": {
        "id": "c4gCkxiwIBuF"
      },
      "execution_count": null,
      "outputs": []
    },
    {
      "cell_type": "markdown",
      "source": [
        "Escribir una función que reciba una muestra de números y devuelva los valores atípicos, es decir, los valores cuya puntuación típica sea mayor que 3 o menor que -3.  \n",
        "Nota: La puntuación típica de un valor se obtiene restando la media y dividiendo por la desviación típica de la muestra."
      ],
      "metadata": {
        "id": "qaPJF_f9IEKu"
      }
    },
    {
      "cell_type": "code",
      "source": [
        "from statistics import mean, stdev\n",
        "\n",
        "def atipico(muestra):\n",
        "    media = mean(muestra)\n",
        "    desviacion = stdev(muestra)\n",
        "    def f(n):\n",
        "        puntuacion = (n - media) / desviacion\n",
        "        return (puntuacion < -3) or (puntuacion > 3)\n",
        "    return f\n",
        "\n",
        "def datos_atipicos(muestra):\n",
        "    return list(filter(atipico(muestra), muestra))\n",
        "\n",
        "print(datos_atipicos([1, 2, 3, 4, 5, 6, 7, 8, 9, 10, 1000]))"
      ],
      "metadata": {
        "colab": {
          "base_uri": "https://localhost:8080/"
        },
        "id": "gopo0oWEIGtQ",
        "outputId": "cddae9d9-eaf2-4296-f3aa-f329ae4f77a4"
      },
      "execution_count": 4,
      "outputs": [
        {
          "output_type": "stream",
          "name": "stdout",
          "text": [
            "[1000]\n"
          ]
        }
      ]
    }
  ]
}