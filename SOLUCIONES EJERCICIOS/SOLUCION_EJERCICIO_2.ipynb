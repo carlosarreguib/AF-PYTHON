{
  "nbformat": 4,
  "nbformat_minor": 0,
  "metadata": {
    "colab": {
      "provenance": []
    },
    "kernelspec": {
      "name": "python3",
      "display_name": "Python 3"
    },
    "language_info": {
      "name": "python"
    }
  },
  "cells": [
    {
      "cell_type": "markdown",
      "source": [
        "Para tributar un determinado impuesto se debe ser mayor de 16 años y tener unos ingresos superiores a 1000 € mensuales.\n",
        "Escribir un programa que pregunte al usuario su edad y sus ingresos mensuales y muestre por pantalla si el usuario tiene que tributar o no.\n"
      ],
      "metadata": {
        "id": "Sbj14bmHQc9_"
      }
    },
    {
      "cell_type": "code",
      "execution_count": null,
      "metadata": {
        "id": "X13w7Zv6QCmM"
      },
      "outputs": [],
      "source": [
        "age = int(input(\"¿Cuál es tu edad? \"))\n",
        "income = float(input(\"¿Cuales son tus ingresos mensuales?\"))\n",
        "if age > 16 and income >= 1000:\n",
        "    print(\"Tienes que cotizar\")\n",
        "else:\n",
        "    print(\"No tienes que cotizar\")"
      ]
    },
    {
      "cell_type": "markdown",
      "source": [
        "Escribir un programa que pida al usuario un número entero y muestre por pantalla un triángulo rectángulo como el de más abajo, de altura el número introducido.\n",
        "\n",
        "```\n",
        "*\n",
        "**\n",
        "***\n",
        "****\n",
        "*****\n",
        "```"
      ],
      "metadata": {
        "id": "4TQTSMdoQfzZ"
      }
    },
    {
      "cell_type": "code",
      "source": [
        "n = int(input(\"Introduce la altura del triángulo (entero positivo): \"))\n",
        "for i in range(n):\n",
        "    for j in range(i+1):\n",
        "        print(\"*\", end=\"\")\n",
        "    print(\"\")"
      ],
      "metadata": {
        "id": "UDfFHDFIQim8"
      },
      "execution_count": null,
      "outputs": []
    },
    {
      "cell_type": "markdown",
      "source": [
        "Escribir un programa en el que se pregunte al usuario por una frase y una letra, y muestre por pantalla el número de veces que aparece la letra en la frase."
      ],
      "metadata": {
        "id": "EFs2Xw6rQkm8"
      }
    },
    {
      "cell_type": "code",
      "source": [
        "frase = input(\"Introduce una frase: \")\n",
        "letra = input(\"Introduce una letra\")\n",
        "contador = 0\n",
        "for i in frase:\n",
        "    if i == letra:\n",
        "        contador += 1\n",
        "print(\"La letra '%s' aparece %2i veces en la frase '%s'.\" % (letra, contador, frase))"
      ],
      "metadata": {
        "id": "F6u6oKDWQn95"
      },
      "execution_count": null,
      "outputs": []
    },
    {
      "cell_type": "markdown",
      "source": [
        "Escribir un programa que pida al usuario un número entero positivo y muestre por pantalla la cuenta atrás desde ese número hasta cero separados por comas."
      ],
      "metadata": {
        "id": "ridluZzPQqV_"
      }
    },
    {
      "cell_type": "code",
      "source": [
        "n = int(input(\"Introduce un número entero positivo: \"))\n",
        "for i in range(n, -1, -1):\n",
        "    print(i, end=\", \")"
      ],
      "metadata": {
        "id": "R76F5UbmQr1C"
      },
      "execution_count": null,
      "outputs": []
    },
    {
      "cell_type": "markdown",
      "source": [
        "Escribir un programa que muestre el eco de todo lo que el usuario introduzca hasta que el usuario escriba “salir” que terminará."
      ],
      "metadata": {
        "id": "QxggVIwxQvL6"
      }
    },
    {
      "cell_type": "code",
      "source": [
        "while True:\n",
        "    frase = input(\"Introduce algo: \")\n",
        "    if frase == \"salir\":\n",
        "        break\n",
        "    print(frase)"
      ],
      "metadata": {
        "id": "J90x4pQfQwx7"
      },
      "execution_count": null,
      "outputs": []
    }
  ]
}