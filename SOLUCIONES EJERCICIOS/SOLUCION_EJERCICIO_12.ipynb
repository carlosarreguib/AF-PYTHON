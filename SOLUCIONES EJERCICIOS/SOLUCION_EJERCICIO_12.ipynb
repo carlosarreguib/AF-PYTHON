{
  "nbformat": 4,
  "nbformat_minor": 0,
  "metadata": {
    "colab": {
      "provenance": []
    },
    "kernelspec": {
      "name": "python3",
      "display_name": "Python 3"
    },
    "language_info": {
      "name": "python"
    }
  },
  "cells": [
    {
      "cell_type": "markdown",
      "source": [
        "1. Obtener información de los usuarios:"
      ],
      "metadata": {
        "id": "DKSo8VPtaAGw"
      }
    },
    {
      "cell_type": "code",
      "execution_count": null,
      "metadata": {
        "id": "coP8nouYZqpC"
      },
      "outputs": [],
      "source": [
        "import requests\n",
        "\n",
        "response = requests.get(\"https://fakestoreapi.com/users\")\n",
        "users = response.json()\n",
        "\n",
        "for user in users:\n",
        "    print(\"Nombre de usuario:\", user[\"username\"])\n",
        "    print(\"Correo electrónico:\", user[\"email\"])\n",
        "    print()"
      ]
    },
    {
      "cell_type": "markdown",
      "source": [
        "2. Obtener información de las categorías de productos:"
      ],
      "metadata": {
        "id": "F_GEJtc7aGYk"
      }
    },
    {
      "cell_type": "code",
      "source": [
        "import requests\n",
        "\n",
        "response = requests.get(\"https://fakestoreapi.com/products/categories\")\n",
        "categories = response.json()\n",
        "\n",
        "for category in categories:\n",
        "    print(category)"
      ],
      "metadata": {
        "id": "PBoh2oMzaKZM"
      },
      "execution_count": null,
      "outputs": []
    },
    {
      "cell_type": "markdown",
      "source": [
        "3. Obtener información de un producto aleatorio:"
      ],
      "metadata": {
        "id": "38EEAJeXaNiD"
      }
    },
    {
      "cell_type": "code",
      "source": [
        "import requests\n",
        "import random\n",
        "\n",
        "response = requests.get(\"https://fakestoreapi.com/products\")\n",
        "products = response.json()\n",
        "\n",
        "random_product = random.choice(products)\n",
        "\n",
        "print(\"Nombre:\", random_product[\"title\"])\n",
        "print(\"Precio:\", random_product[\"price\"])\n",
        "print(\"Descripción:\", random_product[\"description\"])"
      ],
      "metadata": {
        "id": "wf_hXajMaRoR"
      },
      "execution_count": null,
      "outputs": []
    },
    {
      "cell_type": "markdown",
      "source": [
        "4. Obtener información de los productos de una categoría específica:\n"
      ],
      "metadata": {
        "id": "YsNWMEx9aUKK"
      }
    },
    {
      "cell_type": "code",
      "source": [
        "import requests\n",
        "\n",
        "category_name = \"electronics\"\n",
        "\n",
        "response = requests.get(f\"https://fakestoreapi.com/products/category/{category_name}\")\n",
        "products = response.json()\n",
        "\n",
        "for product in products:\n",
        "    print(\"Nombre:\", product[\"title\"])\n",
        "    print(\"Precio:\", product[\"price\"])\n",
        "    print()\n"
      ],
      "metadata": {
        "id": "H3prlSGIaXgk"
      },
      "execution_count": null,
      "outputs": []
    },
    {
      "cell_type": "markdown",
      "source": [
        "5. Obtener información de los productos por rango de precios:\n"
      ],
      "metadata": {
        "id": "dpLCNZDYaZ_m"
      }
    },
    {
      "cell_type": "code",
      "source": [
        "import requests\n",
        "\n",
        "min_price = 20\n",
        "max_price = 50\n",
        "\n",
        "response = requests.get(\"https://fakestoreapi.com/products\")\n",
        "products = response.json()\n",
        "\n",
        "for product in products:\n",
        "    if min_price <= product[\"price\"] <= max_price:\n",
        "        print(\"Nombre:\", product[\"title\"])\n",
        "        print(\"Precio:\", product[\"price\"])\n",
        "        print()"
      ],
      "metadata": {
        "id": "6WdWxpMvadcX"
      },
      "execution_count": null,
      "outputs": []
    }
  ]
}