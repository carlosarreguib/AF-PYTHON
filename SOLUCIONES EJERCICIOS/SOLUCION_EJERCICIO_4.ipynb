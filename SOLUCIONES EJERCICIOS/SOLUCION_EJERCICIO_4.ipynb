{
  "nbformat": 4,
  "nbformat_minor": 0,
  "metadata": {
    "colab": {
      "provenance": []
    },
    "kernelspec": {
      "name": "python3",
      "display_name": "Python 3"
    },
    "language_info": {
      "name": "python"
    }
  },
  "cells": [
    {
      "cell_type": "markdown",
      "source": [
        "Escribir un programa que almacene las asignaturas de un curso (por ejemplo Matemáticas, Física, Química, Historia y Lengua) en una lista, pregunte al usuario la nota que ha sacado en cada asignatura y elimine de la lista las asignaturas aprobadas. Al final el programa debe mostrar por pantalla las asignaturas que el usuario tiene que repetir."
      ],
      "metadata": {
        "id": "HINSncH-GA0C"
      }
    },
    {
      "cell_type": "code",
      "execution_count": null,
      "metadata": {
        "id": "1kaKh5GaE8xs"
      },
      "outputs": [],
      "source": [
        "subjects = [\"Matemáticas\", \"Física\", \"Química\", \"Historia\", \"Lengua\"]\n",
        "scores = []\n",
        "for subject in subjects:\n",
        "    score = input(\"¿Qué nota has sacado en \" + subject + \"?\")\n",
        "    scores.append(score)\n",
        "for i in range(len(subjects)):\n",
        "    print(\"En \" + subjects[i] + \" has sacado \" + scores[i])"
      ]
    },
    {
      "cell_type": "markdown",
      "source": [
        "Escribir un programa que almacene las matrices\n",
        "\n",
        "$$\n",
        "A = \\left(\n",
        "  \\begin{array}{rrr}\n",
        "  1 & 2 & 3\\\\\n",
        "  4 & 5 & 6\n",
        "  \\end{array}\n",
        "  \\right)\n",
        "  \\quad  y\n",
        "  \\quad\n",
        "  B = \\left(\n",
        "  \\begin{array}{rr}\n",
        "  -1 & 0\\\\\n",
        "  0 & 1\\\\\n",
        "  1 & 1\n",
        "  \\end{array}\n",
        "  \\right)\n",
        "$$\n",
        "\n",
        "en una tupla y muestre por pantalla su producto.  \n",
        "Nota: Para representar matrices mediante tuplas usar tuplas anidadas, representando cada vector fila en una tupla."
      ],
      "metadata": {
        "id": "NtCvGOm6GzEq"
      }
    },
    {
      "cell_type": "code",
      "source": [
        "a = ((1, 2, 3),\n",
        "     (4, 5, 6))\n",
        "b = ((-1, 0),\n",
        "     (0, 1),\n",
        "     (1,1))\n",
        "result = [[0,0],\n",
        "          [0,0]]\n",
        "for i in range(len(a)):\n",
        "    for j in range(len(b[0])):\n",
        "        for k in range(len(b)):\n",
        "            result[i][j] += a[i][k] * b[k][j]\n",
        "for i in range(len(result)):\n",
        "    result[i] = tuple(result[i])\n",
        "result = tuple(result)\n",
        "for i in range(len(result)):\n",
        "    print(result[i])"
      ],
      "metadata": {
        "id": "Jl1Ikx7RG5UE"
      },
      "execution_count": null,
      "outputs": []
    },
    {
      "cell_type": "markdown",
      "source": [
        "Escribir un programa que pregunte por una muestra de números, separados por comas, los guarde en una tupla y muestre por pantalla su media y desviación típica."
      ],
      "metadata": {
        "id": "j9Gamxy6HBmo"
      }
    },
    {
      "cell_type": "code",
      "source": [
        "sample = input(\"Introduce una muestra de números separados por comas: \")\n",
        "sample = sample.split(',')\n",
        "n = len(sample)\n",
        "for i in range(n):\n",
        "    sample[i] = int(sample[i])\n",
        "sample = tuple(sample)\n",
        "sum = 0\n",
        "sumsq = 0\n",
        "for i in sample:\n",
        "    sum += i\n",
        "    sumsq += i**2\n",
        "mean = sum/n\n",
        "stdev = (sumsq/n-mean**2)**(1/2)\n",
        "print('La media es', mean, ', y la desviación típica es', stdev)"
      ],
      "metadata": {
        "id": "qd6OgI1QHD7M"
      },
      "execution_count": null,
      "outputs": []
    },
    {
      "cell_type": "markdown",
      "source": [
        "Escribir un programa que gestione las facturas pendientes de cobro de una empresa. Las facturas se almacenarán en un diccionario donde la clave de cada factura será el número de factura y el valor el coste de la factura. El programa debe preguntar al usuario si quiere añadir una nueva factura, pagar una existente o terminar. Si desea añadir una nueva factura se preguntará por el número de factura y su coste y se añadirá al diccionario. Si se desea pagar una factura se preguntará por el número de factura y se eliminará del diccionario. Después de cada operación el programa debe mostrar por pantalla la cantidad cobrada hasta el momento y la cantidad pendiente de cobro. "
      ],
      "metadata": {
        "id": "RXkQrYBWHGjt"
      }
    },
    {
      "cell_type": "code",
      "source": [
        "facturas = {}\n",
        "cobrado = 0\n",
        "pendiente = 0\n",
        "more = ''\n",
        "while more != 'T':\n",
        "    if more == 'A':\n",
        "        clave = input('Introduce el número de la factura: ')\n",
        "        coste = float(input('Introduce el coste de la factura: '))\n",
        "        facturas[clave] = coste\n",
        "        pendiente += coste\n",
        "    if more == 'P':\n",
        "        clave = input('Introduce el número de la factura a pagar: ')\n",
        "        coste = facturas.pop(clave, 0)\n",
        "        cobrado += coste\n",
        "        pendiente -= coste\n",
        "    print('Recaudado:', cobrado)\n",
        "    print('Pendiente de cobro: ', pendiente)\n",
        "    more = input('¿Quieres añadir una nueva factura (A), pagarla (P) o terminar (T)? ')\n"
      ],
      "metadata": {
        "id": "XQHA8fdxHI5P"
      },
      "execution_count": null,
      "outputs": []
    },
    {
      "cell_type": "markdown",
      "source": [
        "Escribir un programa que cree un diccionario de traducción español-inglés. El usuario introducirá las palabras en español e inglés separadas por dos puntos, y cada par `<palabra>:<traducción>` separados por comas. El programa debe crear un diccionario con las palabras y sus traducciones. Después pedirá una frase en español y utilizará el diccionario para traducirla palabra a palabra. Si una palabra no está en el diccionario debe dejarla sin traducir."
      ],
      "metadata": {
        "id": "Lto9gr8DHLHK"
      }
    },
    {
      "cell_type": "code",
      "source": [
        "diccionario = {}\n",
        "palabras = input(\"Introduce la lista de palabras y traducciones en formato palabra:traducción separadas por comas: \")\n",
        "for i in palabras.split(','):\n",
        "    clave, valor = i.split(':')\n",
        "    diccionario[clave] = valor\n",
        "frase = input('Introduce una frase en español: ')\n",
        "for i in frase.split():\n",
        "    if i in diccionario:\n",
        "        print(diccionario[i], end=' ')\n",
        "    else:\n",
        "        print(i, end=' ')"
      ],
      "metadata": {
        "id": "UVWx00QBHNZX"
      },
      "execution_count": null,
      "outputs": []
    }
  ]
}