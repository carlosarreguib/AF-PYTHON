{
  "nbformat": 4,
  "nbformat_minor": 0,
  "metadata": {
    "colab": {
      "provenance": []
    },
    "kernelspec": {
      "name": "python3",
      "display_name": "Python 3"
    },
    "language_info": {
      "name": "python"
    }
  },
  "cells": [
    {
      "cell_type": "markdown",
      "source": [
        "Localiza el error en el siguiente bloque de código. Crea una excepción para evitar que el programa se bloquee y además explica en un mensaje al usuario la causa y/o solución:\n",
        "\n",
        "resultado = 10/0"
      ],
      "metadata": {
        "id": "QUMOryro4llW"
      }
    },
    {
      "cell_type": "code",
      "execution_count": null,
      "metadata": {
        "id": "KgIr2Lkl3LTx"
      },
      "outputs": [],
      "source": [
        "try:\n",
        "    resultado = 10/0\n",
        "except ZeroDivisionError:\n",
        "    print(\"ERROR: división por cero\")\n",
        "else:\n",
        "    print(\"División realizada correctamente\")\n",
        "finally:\n",
        "    print(\"Fin del bloque try\")"
      ]
    },
    {
      "cell_type": "markdown",
      "source": [
        "Localiza el error en el siguiente bloque de código. Crea una excepción para evitar que el programa se bloquee y además explica en un mensaje al usuario la causa y/o solución:\n",
        "\n",
        "lista = [1, 2, 3, 4, 5] \n",
        "\n",
        "lista[10]"
      ],
      "metadata": {
        "id": "Hztqvn354p-P"
      }
    },
    {
      "cell_type": "code",
      "source": [
        "try:\n",
        "    lista = [1, 2, 3, 4, 5]\n",
        "    lista[10]\n",
        "except IndexError:\n",
        "    print(\"ERROR: acceso a índice incorrecto en lista\")\n",
        "else:\n",
        "    print(\"Manejo de listas correcto\")\n",
        "finally:\n",
        "    print(\"Fin del bloque try\")"
      ],
      "metadata": {
        "id": "oES4WWv54xnb"
      },
      "execution_count": null,
      "outputs": []
    },
    {
      "cell_type": "markdown",
      "source": [
        "Localiza el error en el siguiente bloque de código. Crea una excepción para evitar que el programa se bloquee y además explica en un mensaje al usuario la causa y/o solución:\n",
        "\n",
        "colores = { 'rojo':'red', 'verde':'green', 'negro':'black' }\n",
        "\n",
        "colores['blanco']"
      ],
      "metadata": {
        "id": "KNUKTNrY455F"
      }
    },
    {
      "cell_type": "code",
      "source": [
        "try:\n",
        "    colores = { 'rojo':'red', 'verde':'green', 'negro':'black' } \n",
        "    colores['blanco']\n",
        "except KeyError:\n",
        "    print(\"ERROR: acceso a clave incorrecta en diccionario\")\n",
        "else:\n",
        "    print(\"Manejo de diccionario correcto\")\n",
        "finally:\n",
        "    print(\"Fin del bloque try\")"
      ],
      "metadata": {
        "id": "Fa4yu1yv49_Y"
      },
      "execution_count": null,
      "outputs": []
    },
    {
      "cell_type": "markdown",
      "source": [
        "Localiza el error en el siguiente bloque de código. Crea una excepción para evitar que el programa se bloquee y además explica en un mensaje al usuario la causa y/o solución:\n",
        "\n",
        "resultado = 15 + \"20\""
      ],
      "metadata": {
        "id": "BUo6O1474-ha"
      }
    },
    {
      "cell_type": "code",
      "source": [
        "try:\n",
        "    resultado = 15 + \"20\"\n",
        "except TypeError:\n",
        "    print(\"ERROR: intento de suma de número y cadena\")\n",
        "else:\n",
        "    print(\"Operación realizada correctamente\")\n",
        "finally:\n",
        "    print(\"Fin del bloque try\")"
      ],
      "metadata": {
        "id": "8ji2c6rw5G_s"
      },
      "execution_count": null,
      "outputs": []
    },
    {
      "cell_type": "markdown",
      "source": [
        "Realiza una función llamada agregar_una_vez(lista, el) que reciba una lista y un elemento. \n",
        "\n",
        "La función debe añadir el elemento al final de la lista con la condición de no repetir ningún elemento. Además si este elemento ya se encuentra en la lista se debe invocar un error de tipo ValueError que debes capturar y mostrar este mensaje en su lugar:\n",
        "\n",
        "Error: Imposible añadir elementos duplicados => [elemento].\n",
        "\n",
        "Cuando tengas la función intenta añadir los siguiente valores a la lista 10, -2, \"Hola\" y luego muestra su contenido.\n",
        "\n",
        "Sugerencia\n",
        "\n",
        "Puedes utilizar la sintaxis \"elemento in lista\"\n",
        "\n",
        "elementos = [1, 5, -2]"
      ],
      "metadata": {
        "id": "JIAh-EWl5LFC"
      }
    },
    {
      "cell_type": "code",
      "source": [
        "elementos = [1, 5, -2]\n",
        "\n",
        "# Completa el ejercicio aquí\n",
        "def agregar_una_vez(lista, elemento):\n",
        "    if elemento in lista:\n",
        "        raise ValueError(\"ERROR: Imposible añadir elementos duplicados => [{}]\".format(elemento))\n",
        "    lista.append(elemento)\n",
        "    \n",
        "try:\n",
        "    agregar_una_vez(elementos, 10)\n",
        "    agregar_una_vez(elementos, -2)\n",
        "except ValueError as e:\n",
        "    print(e.args[0])\n",
        "else:\n",
        "    print(\"Elementos agregados correctamente\")\n",
        "finally:\n",
        "    print(\"La lista resultante es {}\".format(elementos))"
      ],
      "metadata": {
        "id": "qyT2CbW85Waa"
      },
      "execution_count": null,
      "outputs": []
    }
  ]
}
