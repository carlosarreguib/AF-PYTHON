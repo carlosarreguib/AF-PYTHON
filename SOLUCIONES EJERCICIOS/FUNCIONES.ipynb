{
  "nbformat": 4,
  "nbformat_minor": 0,
  "metadata": {
    "colab": {
      "provenance": []
    },
    "kernelspec": {
      "name": "python3",
      "display_name": "Python 3"
    },
    "language_info": {
      "name": "python"
    }
  },
  "cells": [
    {
      "cell_type": "markdown",
      "source": [
        "Escribir una función que calcule el máximo común divisor de dos números y otra que calcule el mínimo común múltiplo."
      ],
      "metadata": {
        "id": "AW0xqMNKRdVH"
      }
    },
    {
      "cell_type": "code",
      "execution_count": null,
      "metadata": {
        "id": "o42npZnPRD5_"
      },
      "outputs": [],
      "source": [
        "def mcd(n, m):\n",
        "    \"\"\"Función que calcula el máximo común divisor de dos números.\n",
        "    Parámetros:\n",
        "        - n: Es un número entero.\n",
        "        - m: Es un número entero.\n",
        "    Devuelve:\n",
        "        El máximo común divisor de n y m.\n",
        "    \"\"\"\n",
        "    rest = 0\n",
        "    while(m > 0):\n",
        "        rest = m\n",
        "        m = n % m\n",
        "        n = rest\n",
        "    return n\n",
        "\n",
        "def mcm(n, m):\n",
        "    \"\"\"Función que calcula el mínimo común múltiplo de dos números.\n",
        "    Parámetros:\n",
        "        - n: Es un número entero.\n",
        "        - m: Es un número entero.\n",
        "    Devuelve:\n",
        "        El mínimo común múltiplo de n y m.\n",
        "    \"\"\"\n",
        "    if n > m:\n",
        "        greater = n\n",
        "    else:\n",
        "        greater = m\n",
        "    while (greater % n != 0) or (greater % m != 0):\n",
        "        greater += 1\n",
        "    return greater\n",
        "\n",
        "print(mcd(24,36))\n",
        "print(mcm(24,36))"
      ]
    },
    {
      "cell_type": "markdown",
      "source": [
        "Escribir una función que convierta un número decimal en binario y otra que convierta un número binario en decimal."
      ],
      "metadata": {
        "id": "Sv7EaLd9Rgts"
      }
    },
    {
      "cell_type": "code",
      "source": [
        "def to_decimal(n):\n",
        "    \"\"\"Función que convierte un número binario en decimal.\n",
        "    Parámetros:\n",
        "        - n: Es una cadena de ceros y unos.\n",
        "    Devuelve:\n",
        "        El número decimal correspondiente a n.\n",
        "    \"\"\"\n",
        "    n = list(n)\n",
        "    n.reverse()\n",
        "    decimal = 0\n",
        "    for i in range(len(n)):\n",
        "        decimal += int(n[i]) * 2 ** i\n",
        "    return decimal\n",
        "\n",
        "def to_binary(n):\n",
        "    \"\"\"Función que convierte un número decimal en binario.\n",
        "    Parámetros:\n",
        "        - n: Es un número entero.\n",
        "    Devuelve:\n",
        "        El número binario correspondiente a n.\n",
        "    \"\"\"\n",
        "    binary = []\n",
        "    while n > 0:\n",
        "        binary.append(str(n % 2))\n",
        "        n //= 2\n",
        "    binary.reverse()\n",
        "    return ''.join(binary)\n",
        "\n",
        "print(to_decimal('10110'))\n",
        "print(to_binary(22))\n",
        "print(to_decimal(to_binary(22)))\n",
        "print(to_binary(to_decimal('10110')))"
      ],
      "metadata": {
        "id": "ZdZ-PvZcRorM"
      },
      "execution_count": null,
      "outputs": []
    },
    {
      "cell_type": "markdown",
      "source": [
        "Escribir una función que reciba una muestra de números en una lista y devuelva su media, varianza y desviación típica en un diccionario."
      ],
      "metadata": {
        "id": "KoDoFDdjRsdr"
      }
    },
    {
      "cell_type": "code",
      "source": [
        "def mean(sample):\n",
        "    \"\"\"Función que calcula la media de una muestra de números.\n",
        "    Parámetros\n",
        "    sample: Es una lista de números\n",
        "    Devuelve la media de los números en sample. \n",
        "    \"\"\"\n",
        "    return sum(sample)/len(sample)\n",
        "\n",
        "print(mean([1, 2, 3, 4, 5]))\n",
        "print(mean([2.3, 5.7, 6.8, 9.7, 12.1, 15.6]))"
      ],
      "metadata": {
        "id": "OMhCkXvXRtJ-"
      },
      "execution_count": null,
      "outputs": []
    },
    {
      "cell_type": "markdown",
      "source": [
        "Escribir una función que reciba una muestra de números en una lista y devuelva otra lista con sus cuadrados."
      ],
      "metadata": {
        "id": "GZikuNSbRwcj"
      }
    },
    {
      "cell_type": "code",
      "source": [
        "def square(sample):\n",
        "    \"\"\"Función que calcula los cuadrados de una lista de números.\n",
        "    Parámetros\n",
        "    sample: Es una lista de números\n",
        "    Devuelve una lista con los cuadrados de los números de la lista sample.\n",
        "    \"\"\"\n",
        "    list = []\n",
        "    for i in sample:\n",
        "        list.append(i**2)\n",
        "    return list\n",
        "\n",
        "print(square([1, 2, 3, 4, 5]))\n",
        "print(square([2.3, 5.7, 6.8, 9.7, 12.1, 15.6]))"
      ],
      "metadata": {
        "id": "vg_wb9whRyPj"
      },
      "execution_count": null,
      "outputs": []
    },
    {
      "cell_type": "markdown",
      "source": [
        "Escribir una función que calcule el área de un círculo y otra que calcule el volumen de un cilindro usando la primera función."
      ],
      "metadata": {
        "id": "e7hyG4-uR0SI"
      }
    },
    {
      "cell_type": "code",
      "source": [
        "def circle_area(radius):\n",
        "    \"\"\"Función que calcula el area de un círculo.\n",
        "    Parámetros\n",
        "    radius: Es el radio del círculo.\n",
        "    Devuelve el área del círculo de radio radius. \n",
        "    \"\"\"\n",
        "    pi = 3.1415\n",
        "    return pi*radius**2\n",
        "\n",
        "def cilinder_volume(radius, high):\n",
        "    \"\"\"Función que calcula el volumen de un cilindro.\n",
        "    Parámetros\n",
        "    radius: Es el radio de la base del cilindro.\n",
        "    high: Es la altura del cilindro.\n",
        "    Devuelve el volumen del clindro de radio radius y altura high.\n",
        "    \"\"\"\n",
        "    return circle_area(radius)*high\n",
        "\n",
        "print(cilinder_volume(3,5))"
      ],
      "metadata": {
        "id": "c5Ah0ek8R2So"
      },
      "execution_count": null,
      "outputs": []
    }
  ]
}
